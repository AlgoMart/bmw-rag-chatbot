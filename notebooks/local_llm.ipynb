{
 "cells": [
  {
   "cell_type": "markdown",
   "id": "74fd2208",
   "metadata": {},
   "source": [
    "## Docker Model Runner\n"
   ]
  },
  {
   "cell_type": "code",
   "execution_count": 5,
   "id": "1394b08f",
   "metadata": {},
   "outputs": [],
   "source": [
    "from langchain_openai.chat_models import ChatOpenAI\n",
    "\n",
    "llm = ChatOpenAI(\n",
    "    base_url=\"http://localhost:12434/engines/v1\",\n",
    "    model=\"ai/llama3.2\",\n",
    "    api_key=\"not needed\",\n",
    ")\n",
    "\n",
    "result = llm.invoke(\"Write a joke for developer\")"
   ]
  },
  {
   "cell_type": "code",
   "execution_count": 6,
   "id": "ccef2659",
   "metadata": {},
   "outputs": [
    {
     "name": "stdout",
     "output_type": "stream",
     "text": [
      "Why do programmers prefer dark mode?\n",
      "\n",
      "Because light attracts bugs.\n"
     ]
    }
   ],
   "source": [
    "print(result.content)"
   ]
  },
  {
   "cell_type": "code",
   "execution_count": null,
   "id": "e576368a",
   "metadata": {},
   "outputs": [
    {
     "name": "stderr",
     "output_type": "stream",
     "text": [
      "/Users/yashjain/Developer/interview/bmw-interview-assignment/.bmw-interview-env/lib/python3.13/site-packages/tqdm/auto.py:21: TqdmWarning: IProgress not found. Please update jupyter and ipywidgets. See https://ipywidgets.readthedocs.io/en/stable/user_install.html\n",
      "  from .autonotebook import tqdm as notebook_tqdm\n"
     ]
    }
   ],
   "source": [
    "from langchain_chroma import Chroma\n",
    "from langchain_community.embeddings import HuggingFaceEmbeddings\n",
    "\n",
    "embedding_model = HuggingFaceEmbeddings(\n",
    "    model_name=\"sentence-transformers/all-MiniLM-L6-v2\",\n",
    "    model_kwargs={\"device\": \"cpu\"},\n",
    ")\n",
    "\n",
    "\n",
    "# Initialize the ChromaDB\n",
    "vector_store = Chroma.from_texts(\n",
    "    texts=[\"Hello world\"],\n",
    "    collection_name=\"test\",\n",
    "    embedding=embedding_model,\n",
    "    persist_directory=\"test_db\",\n",
    ")"
   ]
  },
  {
   "cell_type": "code",
   "execution_count": null,
   "id": "d766fa41",
   "metadata": {},
   "outputs": [],
   "source": []
  }
 ],
 "metadata": {
  "kernelspec": {
   "display_name": "Python 3",
   "language": "python",
   "name": "python3"
  },
  "language_info": {
   "codemirror_mode": {
    "name": "ipython",
    "version": 3
   },
   "file_extension": ".py",
   "mimetype": "text/x-python",
   "name": "python",
   "nbconvert_exporter": "python",
   "pygments_lexer": "ipython3",
   "version": "3.13.7"
  }
 },
 "nbformat": 4,
 "nbformat_minor": 5
}
