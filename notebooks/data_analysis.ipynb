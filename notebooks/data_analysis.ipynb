{
 "cells": [
  {
   "cell_type": "markdown",
   "id": "7997ea26",
   "metadata": {},
   "source": [
    "## 1. Need to import using separator `;`\n"
   ]
  },
  {
   "cell_type": "code",
   "execution_count": 2,
   "id": "76160aef",
   "metadata": {},
   "outputs": [
    {
     "data": {
      "text/html": [
       "<div>\n",
       "<style scoped>\n",
       "    .dataframe tbody tr th:only-of-type {\n",
       "        vertical-align: middle;\n",
       "    }\n",
       "\n",
       "    .dataframe tbody tr th {\n",
       "        vertical-align: top;\n",
       "    }\n",
       "\n",
       "    .dataframe thead th {\n",
       "        text-align: right;\n",
       "    }\n",
       "</style>\n",
       "<table border=\"1\" class=\"dataframe\">\n",
       "  <thead>\n",
       "    <tr style=\"text-align: right;\">\n",
       "      <th></th>\n",
       "      <th>ID</th>\n",
       "      <th>DESCRIPTION</th>\n",
       "      <th>Attribut1</th>\n",
       "      <th>Additional Feature</th>\n",
       "      <th>Application</th>\n",
       "      <th>Characteristic</th>\n",
       "      <th>Temp</th>\n",
       "      <th>Height</th>\n",
       "      <th>Length in mm</th>\n",
       "      <th>Rating</th>\n",
       "      <th>...</th>\n",
       "      <th>Operating Temperature-Min (Cel)</th>\n",
       "      <th>Physical Dimension</th>\n",
       "      <th>Pre-arcing time-Min (ms)</th>\n",
       "      <th>Product Diameter</th>\n",
       "      <th>Product Length</th>\n",
       "      <th>Rated Breaking Capacity (A)</th>\n",
       "      <th>Rated Current (A)</th>\n",
       "      <th>Rated Voltage (V)</th>\n",
       "      <th>Rated Voltage(AC) (V)</th>\n",
       "      <th>Rated Voltage(DC) (V)</th>\n",
       "    </tr>\n",
       "  </thead>\n",
       "  <tbody>\n",
       "    <tr>\n",
       "      <th>0</th>\n",
       "      <td>A1</td>\n",
       "      <td>Indicator Red Fast Movement 1.6A 250V Holder P...</td>\n",
       "      <td>Fast</td>\n",
       "      <td>NaN</td>\n",
       "      <td>Primary Protection In Equipment</td>\n",
       "      <td>VERY FAST</td>\n",
       "      <td>NaN</td>\n",
       "      <td>20mm</td>\n",
       "      <td>5.2mm</td>\n",
       "      <td>1.6A</td>\n",
       "      <td>...</td>\n",
       "      <td>-55Cel</td>\n",
       "      <td>5.2mm  x  20mm</td>\n",
       "      <td>3ms</td>\n",
       "      <td>5.2mm</td>\n",
       "      <td>20mm</td>\n",
       "      <td>1500A</td>\n",
       "      <td>1.6A</td>\n",
       "      <td>250V</td>\n",
       "      <td>250V</td>\n",
       "      <td>NaN</td>\n",
       "    </tr>\n",
       "    <tr>\n",
       "      <th>1</th>\n",
       "      <td>A2</td>\n",
       "      <td>Non Resettable Indicators Electric Indicator, ...</td>\n",
       "      <td>NaN</td>\n",
       "      <td>NaN</td>\n",
       "      <td>Primary Protection In Equipment</td>\n",
       "      <td>VERY FAST</td>\n",
       "      <td>NaN</td>\n",
       "      <td>20mm</td>\n",
       "      <td>5.2mm</td>\n",
       "      <td>NaN</td>\n",
       "      <td>...</td>\n",
       "      <td>-55Cel</td>\n",
       "      <td>5.2mm  x  20mm</td>\n",
       "      <td>3ms</td>\n",
       "      <td>5.2mm</td>\n",
       "      <td>20mm</td>\n",
       "      <td>1500A</td>\n",
       "      <td>6.3A</td>\n",
       "      <td>250V</td>\n",
       "      <td>250V</td>\n",
       "      <td>NaN</td>\n",
       "    </tr>\n",
       "    <tr>\n",
       "      <th>2</th>\n",
       "      <td>A3</td>\n",
       "      <td>Indicator Red Fast Movement 8A 250V Holder Pla...</td>\n",
       "      <td>Fast</td>\n",
       "      <td>NaN</td>\n",
       "      <td>Primary Protection In Equipment</td>\n",
       "      <td>VERY FAST</td>\n",
       "      <td>NaN</td>\n",
       "      <td>20mm</td>\n",
       "      <td>5.2mm</td>\n",
       "      <td>8A</td>\n",
       "      <td>...</td>\n",
       "      <td>-55Cel</td>\n",
       "      <td>5.2mm  x  20mm</td>\n",
       "      <td>10ms</td>\n",
       "      <td>5.2mm</td>\n",
       "      <td>20mm</td>\n",
       "      <td>1500A</td>\n",
       "      <td>8A</td>\n",
       "      <td>250V</td>\n",
       "      <td>250V</td>\n",
       "      <td>NaN</td>\n",
       "    </tr>\n",
       "    <tr>\n",
       "      <th>3</th>\n",
       "      <td>A4</td>\n",
       "      <td>Non Resettable Indicators Electric Indicator, ...</td>\n",
       "      <td>NaN</td>\n",
       "      <td>NaN</td>\n",
       "      <td>Primary Protection In Equipment</td>\n",
       "      <td>VERY FAST</td>\n",
       "      <td>NaN</td>\n",
       "      <td>20mm</td>\n",
       "      <td>5.2mm</td>\n",
       "      <td>NaN</td>\n",
       "      <td>...</td>\n",
       "      <td>-55Cel</td>\n",
       "      <td>5.2mm  x  20mm</td>\n",
       "      <td>10ms</td>\n",
       "      <td>5.2mm</td>\n",
       "      <td>20mm</td>\n",
       "      <td>1500A</td>\n",
       "      <td>10A</td>\n",
       "      <td>250V</td>\n",
       "      <td>250V</td>\n",
       "      <td>NaN</td>\n",
       "    </tr>\n",
       "    <tr>\n",
       "      <th>4</th>\n",
       "      <td>A5</td>\n",
       "      <td>Indicator Red Fast Movement 12.5A 250V Holder ...</td>\n",
       "      <td>Fast</td>\n",
       "      <td>NaN</td>\n",
       "      <td>Primary Protection In Equipment</td>\n",
       "      <td>VERY FAST</td>\n",
       "      <td>NaN</td>\n",
       "      <td>20mm</td>\n",
       "      <td>5.2mm</td>\n",
       "      <td>12.5A</td>\n",
       "      <td>...</td>\n",
       "      <td>-55Cel</td>\n",
       "      <td>5.2mm  x  20mm</td>\n",
       "      <td>10ms</td>\n",
       "      <td>5.2mm</td>\n",
       "      <td>20mm</td>\n",
       "      <td>500A</td>\n",
       "      <td>12.5A</td>\n",
       "      <td>250V</td>\n",
       "      <td>250V</td>\n",
       "      <td>NaN</td>\n",
       "    </tr>\n",
       "  </tbody>\n",
       "</table>\n",
       "<p>5 rows × 32 columns</p>\n",
       "</div>"
      ],
      "text/plain": [
       "   ID                                        DESCRIPTION Attribut1  \\\n",
       "0  A1  Indicator Red Fast Movement 1.6A 250V Holder P...      Fast   \n",
       "1  A2  Non Resettable Indicators Electric Indicator, ...       NaN   \n",
       "2  A3  Indicator Red Fast Movement 8A 250V Holder Pla...      Fast   \n",
       "3  A4  Non Resettable Indicators Electric Indicator, ...       NaN   \n",
       "4  A5  Indicator Red Fast Movement 12.5A 250V Holder ...      Fast   \n",
       "\n",
       "  Additional Feature                      Application Characteristic Temp  \\\n",
       "0                NaN  Primary Protection In Equipment      VERY FAST  NaN   \n",
       "1                NaN  Primary Protection In Equipment      VERY FAST  NaN   \n",
       "2                NaN  Primary Protection In Equipment      VERY FAST  NaN   \n",
       "3                NaN  Primary Protection In Equipment      VERY FAST  NaN   \n",
       "4                NaN  Primary Protection In Equipment      VERY FAST  NaN   \n",
       "\n",
       "  Height Length in mm Rating  ... Operating Temperature-Min (Cel)  \\\n",
       "0   20mm        5.2mm   1.6A  ...                          -55Cel   \n",
       "1   20mm        5.2mm    NaN  ...                          -55Cel   \n",
       "2   20mm        5.2mm     8A  ...                          -55Cel   \n",
       "3   20mm        5.2mm    NaN  ...                          -55Cel   \n",
       "4   20mm        5.2mm  12.5A  ...                          -55Cel   \n",
       "\n",
       "  Physical Dimension Pre-arcing time-Min (ms) Product Diameter Product Length  \\\n",
       "0     5.2mm  x  20mm                      3ms            5.2mm           20mm   \n",
       "1     5.2mm  x  20mm                      3ms            5.2mm           20mm   \n",
       "2     5.2mm  x  20mm                     10ms            5.2mm           20mm   \n",
       "3     5.2mm  x  20mm                     10ms            5.2mm           20mm   \n",
       "4     5.2mm  x  20mm                     10ms            5.2mm           20mm   \n",
       "\n",
       "  Rated Breaking Capacity (A) Rated Current (A) Rated Voltage (V)  \\\n",
       "0                       1500A              1.6A              250V   \n",
       "1                       1500A              6.3A              250V   \n",
       "2                       1500A                8A              250V   \n",
       "3                       1500A               10A              250V   \n",
       "4                        500A             12.5A              250V   \n",
       "\n",
       "  Rated Voltage(AC) (V) Rated Voltage(DC) (V)  \n",
       "0                  250V                   NaN  \n",
       "1                  250V                   NaN  \n",
       "2                  250V                   NaN  \n",
       "3                  250V                   NaN  \n",
       "4                  250V                   NaN  \n",
       "\n",
       "[5 rows x 32 columns]"
      ]
     },
     "execution_count": 2,
     "metadata": {},
     "output_type": "execute_result"
    }
   ],
   "source": [
    "import pandas as pd\n",
    "\n",
    "df = pd.read_csv(\"../data/Parts.csv\", sep=\";\")\n",
    "df.head()"
   ]
  },
  {
   "cell_type": "code",
   "execution_count": 3,
   "id": "85676127",
   "metadata": {},
   "outputs": [
    {
     "data": {
      "text/plain": [
       "(998, 32)"
      ]
     },
     "execution_count": 3,
     "metadata": {},
     "output_type": "execute_result"
    }
   ],
   "source": [
    "df.shape"
   ]
  },
  {
   "cell_type": "code",
   "execution_count": 4,
   "id": "57592ae7",
   "metadata": {},
   "outputs": [
    {
     "name": "stdout",
     "output_type": "stream",
     "text": [
      "<class 'pandas.core.frame.DataFrame'>\n",
      "RangeIndex: 998 entries, 0 to 997\n",
      "Data columns (total 32 columns):\n",
      " #   Column                           Non-Null Count  Dtype  \n",
      "---  ------                           --------------  -----  \n",
      " 0   ID                               998 non-null    object \n",
      " 1   DESCRIPTION                      663 non-null    object \n",
      " 2   Attribut1                        770 non-null    object \n",
      " 3   Additional Feature               324 non-null    object \n",
      " 4   Application                      821 non-null    object \n",
      " 5   Characteristic                   672 non-null    object \n",
      " 6   Temp                             417 non-null    object \n",
      " 7   Height                           705 non-null    object \n",
      " 8   Length in mm                     705 non-null    object \n",
      " 9   Rating                           834 non-null    object \n",
      " 10  Material                         771 non-null    object \n",
      " 11  Size                             880 non-null    object \n",
      " 12  Code                             555 non-null    object \n",
      " 13  Joule-integral-Nom (J)           663 non-null    object \n",
      " 14  LC Risk                          786 non-null    object \n",
      " 15  Maximum AC Voltage Rating        734 non-null    object \n",
      " 16  Maximum DC Voltage Rating        448 non-null    object \n",
      " 17  Maximum Power Dissipation        253 non-null    object \n",
      " 18  Mounting                         774 non-null    object \n",
      " 19  Mounting Feature                 679 non-null    object \n",
      " 20  Number of Terminals              758 non-null    float64\n",
      " 21  Operating Temperature-Max (Cel)  707 non-null    object \n",
      " 22  Operating Temperature-Min (Cel)  702 non-null    object \n",
      " 23  Physical Dimension               668 non-null    object \n",
      " 24  Pre-arcing time-Min (ms)         108 non-null    object \n",
      " 25  Product Diameter                 272 non-null    object \n",
      " 26  Product Length                   760 non-null    object \n",
      " 27  Rated Breaking Capacity (A)      655 non-null    object \n",
      " 28  Rated Current (A)                673 non-null    object \n",
      " 29  Rated Voltage (V)                439 non-null    object \n",
      " 30  Rated Voltage(AC) (V)            564 non-null    object \n",
      " 31  Rated Voltage(DC) (V)            457 non-null    object \n",
      "dtypes: float64(1), object(31)\n",
      "memory usage: 249.6+ KB\n"
     ]
    }
   ],
   "source": [
    "df.info()"
   ]
  },
  {
   "cell_type": "markdown",
   "id": "a0795b0c",
   "metadata": {},
   "source": [
    "## 2. Removing the `NA`\n"
   ]
  },
  {
   "cell_type": "code",
   "execution_count": 5,
   "id": "fdb8f133",
   "metadata": {},
   "outputs": [
    {
     "data": {
      "text/plain": [
       "(335, 32)"
      ]
     },
     "execution_count": 5,
     "metadata": {},
     "output_type": "execute_result"
    }
   ],
   "source": [
    "df[df[\"DESCRIPTION\"].isna()].shape"
   ]
  },
  {
   "cell_type": "code",
   "execution_count": 6,
   "id": "5dac9c96",
   "metadata": {},
   "outputs": [
    {
     "data": {
      "text/plain": [
       "(663, 32)"
      ]
     },
     "execution_count": 6,
     "metadata": {},
     "output_type": "execute_result"
    }
   ],
   "source": [
    "df = df[~df[\"DESCRIPTION\"].isna()]\n",
    "df.shape"
   ]
  },
  {
   "cell_type": "code",
   "execution_count": 7,
   "id": "cbdc0053",
   "metadata": {},
   "outputs": [
    {
     "data": {
      "text/plain": [
       "(663, 32)"
      ]
     },
     "execution_count": 7,
     "metadata": {},
     "output_type": "execute_result"
    }
   ],
   "source": [
    "df = df.drop_duplicates()\n",
    "df.shape"
   ]
  },
  {
   "cell_type": "code",
   "execution_count": 8,
   "id": "ea4a83c5",
   "metadata": {},
   "outputs": [
    {
     "data": {
      "text/plain": [
       "0    indicator red fast movement 1.6a 250v holder p...\n",
       "1    non resettable indicators electric indicator, ...\n",
       "2    indicator red fast movement 8a 250v holder pla...\n",
       "3    non resettable indicators electric indicator, ...\n",
       "4    indicator red fast movement 12.5a 250v holder ...\n",
       "Name: DESCRIPTION, dtype: object"
      ]
     },
     "execution_count": 8,
     "metadata": {},
     "output_type": "execute_result"
    }
   ],
   "source": [
    "df[\"DESCRIPTION\"] = df[\"DESCRIPTION\"].apply(lambda x: str(x).strip().lower())\n",
    "df[\"DESCRIPTION\"].head()"
   ]
  },
  {
   "cell_type": "code",
   "execution_count": 9,
   "id": "6ba86955",
   "metadata": {},
   "outputs": [
    {
     "data": {
      "text/html": [
       "<div>\n",
       "<style scoped>\n",
       "    .dataframe tbody tr th:only-of-type {\n",
       "        vertical-align: middle;\n",
       "    }\n",
       "\n",
       "    .dataframe tbody tr th {\n",
       "        vertical-align: top;\n",
       "    }\n",
       "\n",
       "    .dataframe thead th {\n",
       "        text-align: right;\n",
       "    }\n",
       "</style>\n",
       "<table border=\"1\" class=\"dataframe\">\n",
       "  <thead>\n",
       "    <tr style=\"text-align: right;\">\n",
       "      <th></th>\n",
       "      <th>ID</th>\n",
       "      <th>DESCRIPTION</th>\n",
       "      <th>Attribut1</th>\n",
       "      <th>Additional Feature</th>\n",
       "      <th>Application</th>\n",
       "      <th>Characteristic</th>\n",
       "      <th>Temp</th>\n",
       "      <th>Height</th>\n",
       "      <th>Length in mm</th>\n",
       "      <th>Rating</th>\n",
       "      <th>...</th>\n",
       "      <th>Operating Temperature-Min (Cel)</th>\n",
       "      <th>Physical Dimension</th>\n",
       "      <th>Pre-arcing time-Min (ms)</th>\n",
       "      <th>Product Diameter</th>\n",
       "      <th>Product Length</th>\n",
       "      <th>Rated Breaking Capacity (A)</th>\n",
       "      <th>Rated Current (A)</th>\n",
       "      <th>Rated Voltage (V)</th>\n",
       "      <th>Rated Voltage(AC) (V)</th>\n",
       "      <th>Rated Voltage(DC) (V)</th>\n",
       "    </tr>\n",
       "  </thead>\n",
       "  <tbody>\n",
       "    <tr>\n",
       "      <th>0</th>\n",
       "      <td>A1</td>\n",
       "      <td>indicator red fast movement 1.6a 250v holder p...</td>\n",
       "      <td>Fast</td>\n",
       "      <td>NaN</td>\n",
       "      <td>Primary Protection In Equipment</td>\n",
       "      <td>VERY FAST</td>\n",
       "      <td>NaN</td>\n",
       "      <td>20mm</td>\n",
       "      <td>5.2mm</td>\n",
       "      <td>1.6A</td>\n",
       "      <td>...</td>\n",
       "      <td>-55Cel</td>\n",
       "      <td>5.2mm  x  20mm</td>\n",
       "      <td>3ms</td>\n",
       "      <td>5.2mm</td>\n",
       "      <td>20mm</td>\n",
       "      <td>1500A</td>\n",
       "      <td>1.6A</td>\n",
       "      <td>250V</td>\n",
       "      <td>250V</td>\n",
       "      <td>NaN</td>\n",
       "    </tr>\n",
       "    <tr>\n",
       "      <th>1</th>\n",
       "      <td>A2</td>\n",
       "      <td>non resettable indicators electric indicator, ...</td>\n",
       "      <td>NaN</td>\n",
       "      <td>NaN</td>\n",
       "      <td>Primary Protection In Equipment</td>\n",
       "      <td>VERY FAST</td>\n",
       "      <td>NaN</td>\n",
       "      <td>20mm</td>\n",
       "      <td>5.2mm</td>\n",
       "      <td>NaN</td>\n",
       "      <td>...</td>\n",
       "      <td>-55Cel</td>\n",
       "      <td>5.2mm  x  20mm</td>\n",
       "      <td>3ms</td>\n",
       "      <td>5.2mm</td>\n",
       "      <td>20mm</td>\n",
       "      <td>1500A</td>\n",
       "      <td>6.3A</td>\n",
       "      <td>250V</td>\n",
       "      <td>250V</td>\n",
       "      <td>NaN</td>\n",
       "    </tr>\n",
       "    <tr>\n",
       "      <th>2</th>\n",
       "      <td>A3</td>\n",
       "      <td>indicator red fast movement 8a 250v holder pla...</td>\n",
       "      <td>Fast</td>\n",
       "      <td>NaN</td>\n",
       "      <td>Primary Protection In Equipment</td>\n",
       "      <td>VERY FAST</td>\n",
       "      <td>NaN</td>\n",
       "      <td>20mm</td>\n",
       "      <td>5.2mm</td>\n",
       "      <td>8A</td>\n",
       "      <td>...</td>\n",
       "      <td>-55Cel</td>\n",
       "      <td>5.2mm  x  20mm</td>\n",
       "      <td>10ms</td>\n",
       "      <td>5.2mm</td>\n",
       "      <td>20mm</td>\n",
       "      <td>1500A</td>\n",
       "      <td>8A</td>\n",
       "      <td>250V</td>\n",
       "      <td>250V</td>\n",
       "      <td>NaN</td>\n",
       "    </tr>\n",
       "    <tr>\n",
       "      <th>3</th>\n",
       "      <td>A4</td>\n",
       "      <td>non resettable indicators electric indicator, ...</td>\n",
       "      <td>NaN</td>\n",
       "      <td>NaN</td>\n",
       "      <td>Primary Protection In Equipment</td>\n",
       "      <td>VERY FAST</td>\n",
       "      <td>NaN</td>\n",
       "      <td>20mm</td>\n",
       "      <td>5.2mm</td>\n",
       "      <td>NaN</td>\n",
       "      <td>...</td>\n",
       "      <td>-55Cel</td>\n",
       "      <td>5.2mm  x  20mm</td>\n",
       "      <td>10ms</td>\n",
       "      <td>5.2mm</td>\n",
       "      <td>20mm</td>\n",
       "      <td>1500A</td>\n",
       "      <td>10A</td>\n",
       "      <td>250V</td>\n",
       "      <td>250V</td>\n",
       "      <td>NaN</td>\n",
       "    </tr>\n",
       "    <tr>\n",
       "      <th>4</th>\n",
       "      <td>A5</td>\n",
       "      <td>indicator red fast movement 12.5a 250v holder ...</td>\n",
       "      <td>Fast</td>\n",
       "      <td>NaN</td>\n",
       "      <td>Primary Protection In Equipment</td>\n",
       "      <td>VERY FAST</td>\n",
       "      <td>NaN</td>\n",
       "      <td>20mm</td>\n",
       "      <td>5.2mm</td>\n",
       "      <td>12.5A</td>\n",
       "      <td>...</td>\n",
       "      <td>-55Cel</td>\n",
       "      <td>5.2mm  x  20mm</td>\n",
       "      <td>10ms</td>\n",
       "      <td>5.2mm</td>\n",
       "      <td>20mm</td>\n",
       "      <td>500A</td>\n",
       "      <td>12.5A</td>\n",
       "      <td>250V</td>\n",
       "      <td>250V</td>\n",
       "      <td>NaN</td>\n",
       "    </tr>\n",
       "  </tbody>\n",
       "</table>\n",
       "<p>5 rows × 32 columns</p>\n",
       "</div>"
      ],
      "text/plain": [
       "   ID                                        DESCRIPTION Attribut1  \\\n",
       "0  A1  indicator red fast movement 1.6a 250v holder p...      Fast   \n",
       "1  A2  non resettable indicators electric indicator, ...       NaN   \n",
       "2  A3  indicator red fast movement 8a 250v holder pla...      Fast   \n",
       "3  A4  non resettable indicators electric indicator, ...       NaN   \n",
       "4  A5  indicator red fast movement 12.5a 250v holder ...      Fast   \n",
       "\n",
       "  Additional Feature                      Application Characteristic Temp  \\\n",
       "0                NaN  Primary Protection In Equipment      VERY FAST  NaN   \n",
       "1                NaN  Primary Protection In Equipment      VERY FAST  NaN   \n",
       "2                NaN  Primary Protection In Equipment      VERY FAST  NaN   \n",
       "3                NaN  Primary Protection In Equipment      VERY FAST  NaN   \n",
       "4                NaN  Primary Protection In Equipment      VERY FAST  NaN   \n",
       "\n",
       "  Height Length in mm Rating  ... Operating Temperature-Min (Cel)  \\\n",
       "0   20mm        5.2mm   1.6A  ...                          -55Cel   \n",
       "1   20mm        5.2mm    NaN  ...                          -55Cel   \n",
       "2   20mm        5.2mm     8A  ...                          -55Cel   \n",
       "3   20mm        5.2mm    NaN  ...                          -55Cel   \n",
       "4   20mm        5.2mm  12.5A  ...                          -55Cel   \n",
       "\n",
       "  Physical Dimension Pre-arcing time-Min (ms) Product Diameter Product Length  \\\n",
       "0     5.2mm  x  20mm                      3ms            5.2mm           20mm   \n",
       "1     5.2mm  x  20mm                      3ms            5.2mm           20mm   \n",
       "2     5.2mm  x  20mm                     10ms            5.2mm           20mm   \n",
       "3     5.2mm  x  20mm                     10ms            5.2mm           20mm   \n",
       "4     5.2mm  x  20mm                     10ms            5.2mm           20mm   \n",
       "\n",
       "  Rated Breaking Capacity (A) Rated Current (A) Rated Voltage (V)  \\\n",
       "0                       1500A              1.6A              250V   \n",
       "1                       1500A              6.3A              250V   \n",
       "2                       1500A                8A              250V   \n",
       "3                       1500A               10A              250V   \n",
       "4                        500A             12.5A              250V   \n",
       "\n",
       "  Rated Voltage(AC) (V) Rated Voltage(DC) (V)  \n",
       "0                  250V                   NaN  \n",
       "1                  250V                   NaN  \n",
       "2                  250V                   NaN  \n",
       "3                  250V                   NaN  \n",
       "4                  250V                   NaN  \n",
       "\n",
       "[5 rows x 32 columns]"
      ]
     },
     "execution_count": 9,
     "metadata": {},
     "output_type": "execute_result"
    }
   ],
   "source": [
    "df.drop_duplicates().head()"
   ]
  },
  {
   "cell_type": "code",
   "execution_count": 10,
   "id": "c6ac1bf0",
   "metadata": {},
   "outputs": [
    {
     "data": {
      "text/plain": [
       "['indicator red fast movement 1.6a 250v holder plastic 5 x 20mm ceramic box ccc/pse/vde/culus electric indicator, very fast blow, 1.6a, 250vac, 1500a (ir), inline/holder, 5x20mm',\n",
       " 'non resettable indicators electric indicator, very fast blow, 6.3a, 250vac, 1500a (ir), inline/holder, 5x20mm',\n",
       " 'indicator red fast movement 8a 250v holder plastic 5 x 20mm ceramic box kc/pse/vde/culus electric indicator, very fast blow, 8a, 250vac, 1500a (ir), inline/holder, 5x20mm',\n",
       " 'non resettable indicators electric indicator, very fast blow, 10a, 250vac, 1500a (ir), inline/holder, 5x20mm',\n",
       " 'indicator red fast movement 12.5a 250v holder plastic 5 x 20mm ceramic box pse/culus electric indicator, very fast blow, 12.5a, 250vac, 500a (ir), inline/holder, 5x20mm']"
      ]
     },
     "execution_count": 10,
     "metadata": {},
     "output_type": "execute_result"
    }
   ],
   "source": [
    "df[\"DESCRIPTION\"].values.tolist()[:5]"
   ]
  },
  {
   "cell_type": "markdown",
   "id": "27fbfd08",
   "metadata": {},
   "source": [
    "## 3. Remove the duplicates that come after cleaning the `DESCRIPTION` column\n"
   ]
  },
  {
   "cell_type": "code",
   "execution_count": 11,
   "id": "1d118fef",
   "metadata": {},
   "outputs": [
    {
     "name": "stderr",
     "output_type": "stream",
     "text": [
      "[nltk_data] Downloading package stopwords to\n",
      "[nltk_data]     /Users/yashjain/nltk_data...\n",
      "[nltk_data]   Package stopwords is already up-to-date!\n"
     ]
    }
   ],
   "source": [
    "import re\n",
    "import nltk\n",
    "from nltk.corpus import stopwords\n",
    "from nltk.stem import PorterStemmer\n",
    "\n",
    "# Make sure to download necessary resources\n",
    "nltk.download(\"stopwords\")\n",
    "\n",
    "\n",
    "def clean_text(text: str):\n",
    "    try:\n",
    "        # Lowercase\n",
    "        text = text.lower()\n",
    "\n",
    "        # Remove URLs\n",
    "        text = re.sub(r\"http\\S+|www\\S+|https\\S+\", \"\", text)\n",
    "\n",
    "        # Remove mentions, hashtags\n",
    "        text = re.sub(r\"@\\w+|#\\w+\", \"\", text)\n",
    "\n",
    "        # Remove punctuation\n",
    "        text = re.sub(r\"[^a-z0-9\\s]\", \"\", text)\n",
    "\n",
    "        # Remove extra whitespace\n",
    "        text = re.sub(r\"\\s+\", \" \", text).strip()\n",
    "\n",
    "        # Remove stopwords\n",
    "        stop_words = set(stopwords.words(\"english\"))\n",
    "        words = text.split()\n",
    "        words = [word for word in words if word not in stop_words]\n",
    "\n",
    "        # Stemming\n",
    "        stemmer = PorterStemmer()\n",
    "        words = [stemmer.stem(word) for word in words]\n",
    "\n",
    "        return \" \".join(words)\n",
    "    except Exception as ex:\n",
    "        return text"
   ]
  },
  {
   "cell_type": "code",
   "execution_count": 12,
   "id": "e28c4706",
   "metadata": {},
   "outputs": [
    {
     "data": {
      "text/plain": [
       "['indic red fast movement 16a 250v holder plastic 5 x 20mm ceram box cccpsevdeculu electr indic fast blow 16a 250vac 1500a ir inlinehold 5x20mm',\n",
       " 'non resett indic electr indic fast blow 63a 250vac 1500a ir inlinehold 5x20mm',\n",
       " 'indic red fast movement 8a 250v holder plastic 5 x 20mm ceram box kcpsevdeculu electr indic fast blow 8a 250vac 1500a ir inlinehold 5x20mm',\n",
       " 'non resett indic electr indic fast blow 10a 250vac 1500a ir inlinehold 5x20mm',\n",
       " 'indic red fast movement 125a 250v holder plastic 5 x 20mm ceram box pseculu electr indic fast blow 125a 250vac 500a ir inlinehold 5x20mm']"
      ]
     },
     "execution_count": 12,
     "metadata": {},
     "output_type": "execute_result"
    }
   ],
   "source": [
    "df[\"DESCRIPTION_CLEAN\"] = df[\"DESCRIPTION\"].apply(clean_text)\n",
    "df[\"DESCRIPTION_CLEAN\"].values.tolist()[:5]"
   ]
  },
  {
   "cell_type": "code",
   "execution_count": null,
   "id": "b2925677",
   "metadata": {},
   "outputs": [],
   "source": [
    "df.drop_duplicates(subset=\"DESCRIPTION_CLEAN\", keep=\"first\", inplace=True)"
   ]
  },
  {
   "cell_type": "code",
   "execution_count": 20,
   "id": "97fd6387",
   "metadata": {},
   "outputs": [
    {
     "data": {
      "text/plain": [
       "(580, 33)"
      ]
     },
     "execution_count": 20,
     "metadata": {},
     "output_type": "execute_result"
    }
   ],
   "source": [
    "df.shape"
   ]
  },
  {
   "cell_type": "code",
   "execution_count": 22,
   "id": "e776165c",
   "metadata": {},
   "outputs": [
    {
     "data": {
      "text/plain": [
       "Index(['ID', 'DESCRIPTION', 'Attribut1', 'Additional Feature', 'Application',\n",
       "       'Characteristic', 'Temp', 'Height', 'Length in mm', 'Rating',\n",
       "       'Material', 'Size', 'Code', 'Joule-integral-Nom (J)', 'LC Risk',\n",
       "       'Maximum AC Voltage Rating', 'Maximum DC Voltage Rating',\n",
       "       'Maximum Power Dissipation', 'Mounting', 'Mounting Feature',\n",
       "       'Number of Terminals', 'Operating Temperature-Max (Cel)',\n",
       "       'Operating Temperature-Min (Cel)', 'Physical Dimension',\n",
       "       'Pre-arcing time-Min (ms)', 'Product Diameter', 'Product Length',\n",
       "       'Rated Breaking Capacity (A)', 'Rated Current (A)', 'Rated Voltage (V)',\n",
       "       'Rated Voltage(AC) (V)', 'Rated Voltage(DC) (V)', 'DESCRIPTION_CLEAN'],\n",
       "      dtype='object')"
      ]
     },
     "execution_count": 22,
     "metadata": {},
     "output_type": "execute_result"
    }
   ],
   "source": [
    "df.columns"
   ]
  },
  {
   "cell_type": "markdown",
   "id": "05269bb9",
   "metadata": {},
   "source": [
    "## Saving the data for RAG\n"
   ]
  },
  {
   "cell_type": "code",
   "execution_count": 24,
   "id": "68895b0e",
   "metadata": {},
   "outputs": [],
   "source": [
    "df[\"DESCRIPTION\"].to_csv(\"../data/rag_data.csv\", index=False)"
   ]
  },
  {
   "cell_type": "code",
   "execution_count": null,
   "id": "c8b75a49",
   "metadata": {},
   "outputs": [],
   "source": []
  }
 ],
 "metadata": {
  "kernelspec": {
   "display_name": "Python 3",
   "language": "python",
   "name": "python3"
  },
  "language_info": {
   "codemirror_mode": {
    "name": "ipython",
    "version": 3
   },
   "file_extension": ".py",
   "mimetype": "text/x-python",
   "name": "python",
   "nbconvert_exporter": "python",
   "pygments_lexer": "ipython3",
   "version": "3.13.7"
  }
 },
 "nbformat": 4,
 "nbformat_minor": 5
}
